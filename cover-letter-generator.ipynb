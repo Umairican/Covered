{
 "cells": [
  {
   "cell_type": "markdown",
   "id": "forbidden-rebecca",
   "metadata": {},
   "source": [
    "# Cover Letter Generator\n",
    "\n",
    "This idea came to Amir Semsarzadeh and me during our Data Science Immersive at General Assembly. We recognized that people don't particularly enjoy writing cover letters, so this tool is aimed to alleviate that stress from our job search, and to hopefully do the same for others.\n",
    "\n",
    "The below code is adapted from [Amir's code](https://github.com/Amirdatasci2021/workit) to suit my profile."
   ]
  },
  {
   "cell_type": "code",
   "execution_count": null,
   "id": "recognized-sampling",
   "metadata": {},
   "outputs": [],
   "source": [
    "#Gotta bring some mates\n",
    "\n",
    "import random\n",
    "from datetime import date\n",
    "import re\n",
    "from docx import Document\n",
    "from docx.shared import Pt\n",
    "from docx.text import font\n",
    "from dateutil.relativedelta import relativedelta\n",
    "\n",
    "import pandas as pd\n",
    "\n",
    "#import pymongo\n",
    "#from pymongo import MongoClient\n",
    "import json\n",
    "#import dns"
   ]
  },
  {
   "cell_type": "markdown",
   "id": "appreciated-valuation",
   "metadata": {},
   "source": [
    "### We need to bring in the date for tracking our applications in the database"
   ]
  },
  {
   "cell_type": "code",
   "execution_count": null,
   "id": "pressed-throat",
   "metadata": {},
   "outputs": [],
   "source": [
    "today = date.today()\n",
    "#period = date.today() + relativedelta(weeks=+2)\n",
    "# \"dd_mm_yyyy\" is used for the filenaming convention  \n",
    "d3 = today.strftime(\"%d_%m_%y_\")\n",
    "# \"alph Month day comma year\" is used in the greeting\n",
    "d2 = today.strftime(\"%B %d, %Y\")"
   ]
  },
  {
   "cell_type": "markdown",
   "id": "tamil-textbook",
   "metadata": {},
   "source": [
    "### Adding in variables for the cover letter generator"
   ]
  },
  {
   "cell_type": "code",
   "execution_count": 1,
   "id": "statutory-gibson",
   "metadata": {},
   "outputs": [],
   "source": [
    "firstname = 'Umair'\n",
    "surname = 'Evans'\n",
    "fullname = firstname + ' ' + surname"
   ]
  },
  {
   "cell_type": "code",
   "execution_count": 3,
   "id": "twelve-guitar",
   "metadata": {},
   "outputs": [
    {
     "name": "stdin",
     "output_type": "stream",
     "text": [
      "Where is the job based? London\n"
     ]
    }
   ],
   "source": [
    "# For this I will choose either USA or Europe as my options, and build accordingly\n",
    "location = input('Where is the job based?')"
   ]
  },
  {
   "cell_type": "code",
   "execution_count": 4,
   "id": "embedded-platform",
   "metadata": {},
   "outputs": [
    {
     "data": {
      "text/plain": [
       "'London'"
      ]
     },
     "execution_count": 4,
     "metadata": {},
     "output_type": "execute_result"
    }
   ],
   "source": [
    "location"
   ]
  },
  {
   "cell_type": "code",
   "execution_count": 5,
   "id": "standard-process",
   "metadata": {},
   "outputs": [
    {
     "name": "stdin",
     "output_type": "stream",
     "text": [
      "What is the job title? Data Analyst\n"
     ]
    }
   ],
   "source": [
    "job_title = input('What is the job title?')"
   ]
  },
  {
   "cell_type": "code",
   "execution_count": 6,
   "id": "assigned-basket",
   "metadata": {},
   "outputs": [
    {
     "name": "stdin",
     "output_type": "stream",
     "text": [
      "How did you find this position? Linkedin\n"
     ]
    }
   ],
   "source": [
    "source = input('How did you find this position?')"
   ]
  },
  {
   "cell_type": "code",
   "execution_count": 8,
   "id": "interesting-detail",
   "metadata": {},
   "outputs": [
    {
     "name": "stdin",
     "output_type": "stream",
     "text": [
      "What is the company name? Dunnhumby\n"
     ]
    }
   ],
   "source": [
    "company_name = input('What is the company name?')"
   ]
  },
  {
   "cell_type": "code",
   "execution_count": 9,
   "id": "least-employment",
   "metadata": {},
   "outputs": [
    {
     "name": "stdin",
     "output_type": "stream",
     "text": [
      "What is name of the hiring manager? Andrea Brockman\n"
     ]
    }
   ],
   "source": [
    "hiring_manager = input('What is name of the hiring manager?')"
   ]
  },
  {
   "cell_type": "markdown",
   "id": "dramatic-blues",
   "metadata": {},
   "source": [
    "### Header Creation\n",
    "\n",
    "We are going to keep a particular header here"
   ]
  },
  {
   "cell_type": "code",
   "execution_count": null,
   "id": "northern-proposition",
   "metadata": {},
   "outputs": [],
   "source": []
  },
  {
   "cell_type": "code",
   "execution_count": null,
   "id": "beautiful-insulin",
   "metadata": {},
   "outputs": [],
   "source": []
  },
  {
   "cell_type": "code",
   "execution_count": null,
   "id": "religious-novelty",
   "metadata": {},
   "outputs": [],
   "source": []
  },
  {
   "cell_type": "markdown",
   "id": "bright-ghana",
   "metadata": {},
   "source": [
    "### First Paragraph\n",
    "\n",
    "This is the introduction.\n",
    "\n",
    "Draw them in with the first sentence, sharing an engaging question, story, or interesting tidbit. Answer, \"What Value can I offer?\". Highlight something that you appreciate about the company.\n",
    "\n",
    "What value can I offer? Highlight something interesting about the company, or something that you value. First sentence shares an engaging question, story, or interesting tidbit about your experience that is related to the role."
   ]
  },
  {
   "cell_type": "code",
   "execution_count": null,
   "id": "shared-integration",
   "metadata": {},
   "outputs": [],
   "source": []
  },
  {
   "cell_type": "code",
   "execution_count": null,
   "id": "demonstrated-hollow",
   "metadata": {},
   "outputs": [],
   "source": []
  },
  {
   "cell_type": "code",
   "execution_count": null,
   "id": "knowing-expression",
   "metadata": {},
   "outputs": [],
   "source": []
  },
  {
   "cell_type": "code",
   "execution_count": null,
   "id": "secure-liberty",
   "metadata": {},
   "outputs": [],
   "source": []
  },
  {
   "cell_type": "markdown",
   "id": "decimal-manual",
   "metadata": {},
   "source": [
    "### Paragraphs 2-3\n",
    "\n",
    "- Explain what makes you different, what sets you apart\n",
    "- Explain how you can help the employer achieve their goals\n",
    "- Tell stories of how you can help them\n",
    "\n",
    "Explain how you can help the employer achieve their goals. Tell stories of how you can help them. Include a short story supporting key skills you bring to the role; the ways that stories here rephrase what is in your resume"
   ]
  },
  {
   "cell_type": "code",
   "execution_count": null,
   "id": "illegal-writer",
   "metadata": {},
   "outputs": [],
   "source": []
  },
  {
   "cell_type": "code",
   "execution_count": null,
   "id": "racial-framing",
   "metadata": {},
   "outputs": [],
   "source": []
  },
  {
   "cell_type": "code",
   "execution_count": null,
   "id": "fallen-vision",
   "metadata": {},
   "outputs": [],
   "source": []
  },
  {
   "cell_type": "code",
   "execution_count": null,
   "id": "departmental-venezuela",
   "metadata": {},
   "outputs": [],
   "source": []
  },
  {
   "cell_type": "markdown",
   "id": "massive-improvement",
   "metadata": {},
   "source": [
    "### Last Paragraph\n",
    "\n",
    "- Reiterate your qualifications and interest in the role. Thank the employer for your time and consideration."
   ]
  },
  {
   "cell_type": "code",
   "execution_count": null,
   "id": "associate-restriction",
   "metadata": {},
   "outputs": [],
   "source": []
  },
  {
   "cell_type": "code",
   "execution_count": null,
   "id": "brave-scheme",
   "metadata": {},
   "outputs": [],
   "source": []
  },
  {
   "cell_type": "code",
   "execution_count": null,
   "id": "informal-triple",
   "metadata": {},
   "outputs": [],
   "source": []
  },
  {
   "cell_type": "code",
   "execution_count": null,
   "id": "timely-istanbul",
   "metadata": {},
   "outputs": [],
   "source": []
  },
  {
   "cell_type": "markdown",
   "id": "threaded-indonesia",
   "metadata": {},
   "source": [
    "### Saving this all to a dataframe\n",
    "\n",
    "We are going to keep track of all of these job applications through pandas, Mongo, and Google Sheets"
   ]
  },
  {
   "cell_type": "code",
   "execution_count": null,
   "id": "civic-effort",
   "metadata": {},
   "outputs": [],
   "source": [
    "application_tracker = pd.DataFrame()\n",
    "\n",
    "app_dict = {\n",
    "    'company': company_name,\n",
    "    \n",
    "    \n",
    "}"
   ]
  },
  {
   "cell_type": "code",
   "execution_count": null,
   "id": "italian-cattle",
   "metadata": {},
   "outputs": [],
   "source": []
  },
  {
   "cell_type": "code",
   "execution_count": null,
   "id": "declared-verification",
   "metadata": {},
   "outputs": [],
   "source": []
  },
  {
   "cell_type": "markdown",
   "id": "eleven-science",
   "metadata": {},
   "source": [
    "### Follow-Up Creation\n",
    "\n",
    "### After Applying\n",
    "\n",
    "- Contact a person about your application\n",
    "    - Try to find who is looking through the resumes, use an email finder whenever possible\n",
    "- Follow up within 2 weeks if you don't hear anything\n",
    "- Document in Job tracker"
   ]
  },
  {
   "cell_type": "code",
   "execution_count": null,
   "id": "settled-christopher",
   "metadata": {},
   "outputs": [],
   "source": []
  },
  {
   "cell_type": "code",
   "execution_count": null,
   "id": "editorial-fishing",
   "metadata": {},
   "outputs": [],
   "source": []
  },
  {
   "cell_type": "code",
   "execution_count": null,
   "id": "fluid-permit",
   "metadata": {},
   "outputs": [],
   "source": []
  }
 ],
 "metadata": {
  "kernelspec": {
   "display_name": "Python 3",
   "language": "python",
   "name": "python3"
  },
  "language_info": {
   "codemirror_mode": {
    "name": "ipython",
    "version": 3
   },
   "file_extension": ".py",
   "mimetype": "text/x-python",
   "name": "python",
   "nbconvert_exporter": "python",
   "pygments_lexer": "ipython3",
   "version": "3.8.8"
  }
 },
 "nbformat": 4,
 "nbformat_minor": 5
}
