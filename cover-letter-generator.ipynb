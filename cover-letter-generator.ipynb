{
 "cells": [
  {
   "cell_type": "markdown",
   "id": "egyptian-closing",
   "metadata": {},
   "source": [
    "# Cover Letter Generator\n",
    "\n",
    "This idea came to Amir Semsarzadeh and me during our Data Science Immersive at General Assembly. We recognized that people don't particularly enjoy writing cover letters, so this tool is aimed to alleviate that stress from our job search, and to hopefully do the same for others.\n",
    "\n",
    "The below code is adapted from [Amir's code](https://github.com/Amirdatasci2021/workit) to suit my profile.\n",
    "\n",
    "### The below are notes from my GA Outcomes lectures\n",
    "\n",
    "### Cover letters should be:\n",
    "\n",
    "- Brief: Aim for 250 words or less. Proofread each sentence to ensure that it is said with precision.\n",
    "- Personal: Highlight specific things about this role and employer that stand out to you. Write with a tone of voice that says, \"I'm excited for this role.\"\n",
    "- Specific: Name the specific skills that make you a strong fit for this role. Don't say vague statements like \"My skills make me an excellent candidate for this role.\" \n",
    "- Engaging: Tell brief stories/highlights from your experience to demonstrate the skills you highlight.\n",
    "- Compelling: Based on research you've done on the company and role, explain how your past experiences and skills would beneficially translate for this position.\n",
    "\n",
    "### Effective cover letters explain\n",
    "\n",
    "- Why should they hire you?\n",
    "- Why do you want to work for them?\n",
    "- Why do you want this role?\n"
   ]
  },
  {
   "cell_type": "code",
   "execution_count": 11,
   "id": "unusual-designer",
   "metadata": {},
   "outputs": [],
   "source": [
    "#Gotta bring some mates\n",
    "\n",
    "import random\n",
    "from datetime import date\n",
    "import re\n",
    "from docx import Document\n",
    "from docx.shared import Pt\n",
    "from docx.text import font\n",
    "from dateutil.relativedelta import relativedelta\n",
    "\n",
    "import pandas as pd\n",
    "\n",
    "#import pymongo\n",
    "#from pymongo import MongoClient\n",
    "import json\n",
    "#import dns"
   ]
  },
  {
   "cell_type": "markdown",
   "id": "second-clarity",
   "metadata": {},
   "source": [
    "### We need to bring in the date for tracking our applications in the database"
   ]
  },
  {
   "cell_type": "code",
   "execution_count": 17,
   "id": "vertical-bundle",
   "metadata": {},
   "outputs": [],
   "source": [
    "today = date.today()\n",
    "#period = date.today() + relativedelta(weeks=+2)\n",
    "# \"dd_mm_yyyy\" is used for the filenaming convention  \n",
    "d3 = today.strftime(\"%d_%m_%y_\")\n",
    "# \"alph Month day comma year\" is used in the greeting\n",
    "d2 = today.strftime(\"%B %d, %Y\")"
   ]
  },
  {
   "cell_type": "markdown",
   "id": "devoted-malawi",
   "metadata": {},
   "source": [
    "### Adding in variables for the cover letter generator"
   ]
  },
  {
   "cell_type": "code",
   "execution_count": 1,
   "id": "criminal-bunny",
   "metadata": {},
   "outputs": [],
   "source": [
    "firstname = 'Umair'\n",
    "surname = 'Evans'\n",
    "fullname = firstname + ' ' + surname"
   ]
  },
  {
   "cell_type": "code",
   "execution_count": 3,
   "id": "accepting-diagram",
   "metadata": {},
   "outputs": [
    {
     "name": "stdin",
     "output_type": "stream",
     "text": [
      "Where is the job based? London\n"
     ]
    }
   ],
   "source": [
    "# For this I will choose either USA or Europe as my options, and build accordingly\n",
    "location = input('Where is the job based?')"
   ]
  },
  {
   "cell_type": "code",
   "execution_count": 4,
   "id": "compact-theta",
   "metadata": {},
   "outputs": [
    {
     "data": {
      "text/plain": [
       "'London'"
      ]
     },
     "execution_count": 4,
     "metadata": {},
     "output_type": "execute_result"
    }
   ],
   "source": [
    "location"
   ]
  },
  {
   "cell_type": "code",
   "execution_count": 5,
   "id": "random-project",
   "metadata": {},
   "outputs": [
    {
     "name": "stdin",
     "output_type": "stream",
     "text": [
      "What is the job title? Data Analyst\n"
     ]
    }
   ],
   "source": [
    "job_title = input('What is the job title?')"
   ]
  },
  {
   "cell_type": "code",
   "execution_count": 6,
   "id": "tough-chicken",
   "metadata": {},
   "outputs": [
    {
     "name": "stdin",
     "output_type": "stream",
     "text": [
      "How did you find this position? Linkedin\n"
     ]
    }
   ],
   "source": [
    "source = input('How did you find this position?')"
   ]
  },
  {
   "cell_type": "code",
   "execution_count": 8,
   "id": "photographic-rachel",
   "metadata": {},
   "outputs": [
    {
     "name": "stdin",
     "output_type": "stream",
     "text": [
      "What is the company name? Dunnhumby\n"
     ]
    }
   ],
   "source": [
    "company_name = input('What is the company name?')"
   ]
  },
  {
   "cell_type": "code",
   "execution_count": 9,
   "id": "desirable-handle",
   "metadata": {},
   "outputs": [
    {
     "name": "stdin",
     "output_type": "stream",
     "text": [
      "What is name of the hiring manager? Andrea Brockman\n"
     ]
    }
   ],
   "source": [
    "hiring_manager = input('What is name of the hiring manager?')"
   ]
  },
  {
   "cell_type": "markdown",
   "id": "printable-wheel",
   "metadata": {},
   "source": [
    "### Header Creation\n",
    "\n",
    "We are going to keep a particular header here"
   ]
  },
  {
   "cell_type": "code",
   "execution_count": null,
   "id": "excellent-smith",
   "metadata": {},
   "outputs": [],
   "source": []
  },
  {
   "cell_type": "code",
   "execution_count": null,
   "id": "exotic-chart",
   "metadata": {},
   "outputs": [],
   "source": []
  },
  {
   "cell_type": "code",
   "execution_count": null,
   "id": "circular-philip",
   "metadata": {},
   "outputs": [],
   "source": []
  },
  {
   "cell_type": "markdown",
   "id": "satellite-speech",
   "metadata": {},
   "source": [
    "### First Paragraph\n",
    "\n",
    "This is the introduction.\n",
    "\n",
    "Draw them in with the first sentence, sharing an engaging question, story, or interesting tidbit. Answer, \"What Value can I offer?\". Highlight something that you appreciate about the company.\n",
    "\n",
    "What value can I offer? Highlight something interesting about the company, or something that you value. First sentence shares an engaging question, story, or interesting tidbit about your experience that is related to the role."
   ]
  },
  {
   "cell_type": "code",
   "execution_count": null,
   "id": "medical-recovery",
   "metadata": {},
   "outputs": [],
   "source": []
  },
  {
   "cell_type": "code",
   "execution_count": null,
   "id": "essential-router",
   "metadata": {},
   "outputs": [],
   "source": []
  },
  {
   "cell_type": "code",
   "execution_count": null,
   "id": "polar-friend",
   "metadata": {},
   "outputs": [],
   "source": []
  },
  {
   "cell_type": "code",
   "execution_count": null,
   "id": "legitimate-cyprus",
   "metadata": {},
   "outputs": [],
   "source": []
  },
  {
   "cell_type": "markdown",
   "id": "sorted-chuck",
   "metadata": {},
   "source": [
    "### Paragraphs 2-3\n",
    "\n",
    "- Explain what makes you different, what sets you apart\n",
    "- Explain how you can help the employer achieve their goals\n",
    "- Tell stories of how you can help them\n",
    "\n",
    "Explain how you can help the employer achieve their goals. Tell stories of how you can help them. Include a short story supporting key skills you bring to the role; the ways that stories here rephrase what is in your resume"
   ]
  },
  {
   "cell_type": "code",
   "execution_count": null,
   "id": "attended-trial",
   "metadata": {},
   "outputs": [],
   "source": []
  },
  {
   "cell_type": "code",
   "execution_count": null,
   "id": "fourth-soviet",
   "metadata": {},
   "outputs": [],
   "source": []
  },
  {
   "cell_type": "code",
   "execution_count": null,
   "id": "increasing-smoke",
   "metadata": {},
   "outputs": [],
   "source": []
  },
  {
   "cell_type": "code",
   "execution_count": null,
   "id": "matched-transsexual",
   "metadata": {},
   "outputs": [],
   "source": []
  },
  {
   "cell_type": "markdown",
   "id": "fantastic-collection",
   "metadata": {},
   "source": [
    "### Last Paragraph\n",
    "\n",
    "- Reiterate your qualifications and interest in the role. Thank the employer for your time and consideration."
   ]
  },
  {
   "cell_type": "code",
   "execution_count": null,
   "id": "educational-punch",
   "metadata": {},
   "outputs": [],
   "source": []
  },
  {
   "cell_type": "code",
   "execution_count": null,
   "id": "metropolitan-ebony",
   "metadata": {},
   "outputs": [],
   "source": []
  },
  {
   "cell_type": "code",
   "execution_count": null,
   "id": "consecutive-berry",
   "metadata": {},
   "outputs": [],
   "source": []
  },
  {
   "cell_type": "code",
   "execution_count": null,
   "id": "conventional-command",
   "metadata": {},
   "outputs": [],
   "source": []
  },
  {
   "cell_type": "markdown",
   "id": "motivated-substitute",
   "metadata": {},
   "source": [
    "### Saving this all to a dataframe\n",
    "\n",
    "We are going to keep track of all of these job applications through pandas, Mongo, and Google Sheets"
   ]
  },
  {
   "cell_type": "code",
   "execution_count": 18,
   "id": "floating-bankruptcy",
   "metadata": {},
   "outputs": [],
   "source": [
    "application_tracker = pd.DataFrame()\n",
    "\n",
    "app_dict = {\n",
    "    'company': company_name,\n",
    "    'position': job_title,\n",
    "    'location': location,\n",
    "    'application_date': d3,\n",
    "    'contact_person': hiring_manager,\n",
    "    'follow-up_date': d3, #we are going to need to figure this one out\n",
    "    'source': source\n",
    "}\n",
    "\n",
    "application_tracker = application_tracker.append(app_dict, ignore_index=True)\n",
    "application_tracker = application_tracker[['company', 'position', 'location', 'application_date', 'contact_person', 'follow-up_date', 'source']]"
   ]
  },
  {
   "cell_type": "code",
   "execution_count": 19,
   "id": "progressive-residence",
   "metadata": {},
   "outputs": [
    {
     "data": {
      "text/html": [
       "<div>\n",
       "<style scoped>\n",
       "    .dataframe tbody tr th:only-of-type {\n",
       "        vertical-align: middle;\n",
       "    }\n",
       "\n",
       "    .dataframe tbody tr th {\n",
       "        vertical-align: top;\n",
       "    }\n",
       "\n",
       "    .dataframe thead th {\n",
       "        text-align: right;\n",
       "    }\n",
       "</style>\n",
       "<table border=\"1\" class=\"dataframe\">\n",
       "  <thead>\n",
       "    <tr style=\"text-align: right;\">\n",
       "      <th></th>\n",
       "      <th>company</th>\n",
       "      <th>position</th>\n",
       "      <th>location</th>\n",
       "      <th>application_date</th>\n",
       "      <th>contact_person</th>\n",
       "      <th>follow-up_date</th>\n",
       "      <th>source</th>\n",
       "    </tr>\n",
       "  </thead>\n",
       "  <tbody>\n",
       "    <tr>\n",
       "      <th>0</th>\n",
       "      <td>Dunnhumby</td>\n",
       "      <td>Data Analyst</td>\n",
       "      <td>London</td>\n",
       "      <td>21d_07m_21yyy_</td>\n",
       "      <td>Andrea Brockman</td>\n",
       "      <td>21d_07m_21yyy_</td>\n",
       "      <td>Linkedin</td>\n",
       "    </tr>\n",
       "  </tbody>\n",
       "</table>\n",
       "</div>"
      ],
      "text/plain": [
       "     company      position location application_date   contact_person  \\\n",
       "0  Dunnhumby  Data Analyst   London   21d_07m_21yyy_  Andrea Brockman   \n",
       "\n",
       "   follow-up_date    source  \n",
       "0  21d_07m_21yyy_  Linkedin  "
      ]
     },
     "execution_count": 19,
     "metadata": {},
     "output_type": "execute_result"
    }
   ],
   "source": [
    "application_tracker"
   ]
  },
  {
   "cell_type": "code",
   "execution_count": null,
   "id": "detailed-termination",
   "metadata": {},
   "outputs": [],
   "source": []
  },
  {
   "cell_type": "markdown",
   "id": "documentary-tolerance",
   "metadata": {},
   "source": [
    "### Follow-Up Creation\n",
    "\n",
    "### After Applying\n",
    "\n",
    "- Contact a person about your application\n",
    "    - Try to find who is looking through the resumes, use an email finder whenever possible\n",
    "- Follow up within 2 weeks if you don't hear anything\n",
    "- Document in Job tracker"
   ]
  },
  {
   "cell_type": "code",
   "execution_count": null,
   "id": "referenced-connecticut",
   "metadata": {},
   "outputs": [],
   "source": []
  },
  {
   "cell_type": "code",
   "execution_count": null,
   "id": "inclusive-jason",
   "metadata": {},
   "outputs": [],
   "source": []
  },
  {
   "cell_type": "code",
   "execution_count": null,
   "id": "automated-configuration",
   "metadata": {},
   "outputs": [],
   "source": []
  }
 ],
 "metadata": {
  "kernelspec": {
   "display_name": "Python 3",
   "language": "python",
   "name": "python3"
  },
  "language_info": {
   "codemirror_mode": {
    "name": "ipython",
    "version": 3
   },
   "file_extension": ".py",
   "mimetype": "text/x-python",
   "name": "python",
   "nbconvert_exporter": "python",
   "pygments_lexer": "ipython3",
   "version": "3.8.8"
  }
 },
 "nbformat": 4,
 "nbformat_minor": 5
}
